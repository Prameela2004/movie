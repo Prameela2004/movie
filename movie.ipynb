{
 "cells": [
  {
   "cell_type": "code",
   "execution_count": 3,
   "metadata": {},
   "outputs": [
    {
     "name": "stdout",
     "output_type": "stream",
     "text": [
      "[10 20 30]\n",
      "8\n"
     ]
    }
   ],
   "source": [
    "import numpy as np\n",
    "x=np.array([10,20,30])\n",
    "print(x)\n",
    "print(x.itemsize)"
   ]
  },
  {
   "cell_type": "code",
   "execution_count": 5,
   "metadata": {},
   "outputs": [
    {
     "name": "stdout",
     "output_type": "stream",
     "text": [
      "[[[[[10 20 30]]]]]\n",
      "5\n"
     ]
    }
   ],
   "source": [
    "import numpy as np\n",
    "x=np.array([10,20,30],ndmin=5)\n",
    "print(x)\n",
    "print(x.ndim)"
   ]
  },
  {
   "cell_type": "code",
   "execution_count": 12,
   "metadata": {},
   "outputs": [
    {
     "name": "stdout",
     "output_type": "stream",
     "text": [
      "80\n"
     ]
    }
   ],
   "source": [
    "x=np.array([[10,20,30,60],[40,50,55,60],[70,75,80,90]])\n",
    "print(x[2,2])"
   ]
  },
  {
   "cell_type": "code",
   "execution_count": 14,
   "metadata": {},
   "outputs": [
    {
     "name": "stdout",
     "output_type": "stream",
     "text": [
      "int64\n"
     ]
    }
   ],
   "source": [
    "print(x.dtype)"
   ]
  },
  {
   "cell_type": "code",
   "execution_count": null,
   "metadata": {},
   "outputs": [],
   "source": []
  },
  {
   "cell_type": "code",
   "execution_count": null,
   "metadata": {},
   "outputs": [],
   "source": []
  },
  {
   "cell_type": "code",
   "execution_count": null,
   "metadata": {},
   "outputs": [
    {
     "name": "stdout",
     "output_type": "stream",
     "text": [
      "3\n",
      "prami@gail.com\n",
      "prami@gail.com\n",
      "_prami@gmail.com\n"
     ]
    }
   ],
   "source": [
    "import re\n",
    "#pattern=\"^[< a-zA-Z0-9][\\._]?[a-zA-Z0-9]+[@]\\w+[.]\\w{1,3}[>]$\"\n",
    "pattern=r'^[a-zA-Z0-9][\\w\\.-]*@[a-zA-Z0-9][\\w\\.-]+\\.\\w+$'\n",
    "#n=input()\n",
    "n=int(input())\n",
    "for i in range(n):\n",
    "    a=input()\n",
    "    if re.search(pattern,a):\n",
    "        print(a)"
   ]
  },
  {
   "cell_type": "code",
   "execution_count": 1,
   "metadata": {},
   "outputs": [
    {
     "name": "stderr",
     "output_type": "stream",
     "text": [
      "/home/rguktongole/.local/lib/python3.8/site-packages/pandas/core/computation/expressions.py:20: UserWarning: Pandas requires version '2.7.3' or newer of 'numexpr' (version '2.7.1' currently installed).\n",
      "  from pandas.core.computation.check import NUMEXPR_INSTALLED\n"
     ]
    }
   ],
   "source": [
    "import pandas as pd\n",
    "\n",
    "# Load datasets\n",
    "movies_df = pd.read_csv('/home/rguktongole/Downloads/movie_data/movies.csv')  # Path to movies.csv\n",
    "links_df = pd.read_csv('/home/rguktongole/Downloads/movie_data/links.csv')    # Path to links.csv\n"
   ]
  },
  {
   "cell_type": "code",
   "execution_count": 2,
   "metadata": {},
   "outputs": [
    {
     "name": "stdout",
     "output_type": "stream",
     "text": [
      "2.7.1\n"
     ]
    }
   ],
   "source": [
    "import numexpr\n",
    "print(numexpr.__version__)\n"
   ]
  },
  {
   "cell_type": "code",
   "execution_count": 3,
   "metadata": {},
   "outputs": [],
   "source": [
    "# Merge movies with IMDB links\n",
    "movies_with_links_df = pd.merge(movies_df, links_df, on='movieId')\n"
   ]
  },
  {
   "cell_type": "code",
   "execution_count": 4,
   "metadata": {},
   "outputs": [],
   "source": [
    "# Example DataFrame after scraping IMDB ratings\n",
    "imdb_ratings_df = pd.DataFrame({\n",
    "    'imdbId': [1, 2, 3],  # Example IMDB IDs\n",
    "    'imdbRating': [8.7, 7.2, 9.0]  # Example ratings\n",
    "})\n",
    "\n",
    "# Merge with movies_with_links_df to associate ratings with movie titles\n",
    "movies_with_ratings_df = pd.merge(movies_with_links_df, imdb_ratings_df, left_on='imdbId', right_on='imdbId')\n"
   ]
  },
  {
   "cell_type": "code",
   "execution_count": 5,
   "metadata": {},
   "outputs": [
    {
     "ename": "ValueError",
     "evalue": "attempt to get argmax of an empty sequence",
     "output_type": "error",
     "traceback": [
      "\u001b[0;31m---------------------------------------------------------------------------\u001b[0m",
      "\u001b[0;31mValueError\u001b[0m                                Traceback (most recent call last)",
      "Cell \u001b[0;32mIn[5], line 2\u001b[0m\n\u001b[1;32m      1\u001b[0m \u001b[38;5;66;03m# Find the movie with the highest IMDB rating\u001b[39;00m\n\u001b[0;32m----> 2\u001b[0m highest_rated_movie \u001b[38;5;241m=\u001b[39m movies_with_ratings_df\u001b[38;5;241m.\u001b[39mloc[\u001b[43mmovies_with_ratings_df\u001b[49m\u001b[43m[\u001b[49m\u001b[38;5;124;43m'\u001b[39;49m\u001b[38;5;124;43mimdbRating\u001b[39;49m\u001b[38;5;124;43m'\u001b[39;49m\u001b[43m]\u001b[49m\u001b[38;5;241;43m.\u001b[39;49m\u001b[43midxmax\u001b[49m\u001b[43m(\u001b[49m\u001b[43m)\u001b[49m]\n\u001b[1;32m      4\u001b[0m \u001b[38;5;66;03m# Extract the movieId\u001b[39;00m\n\u001b[1;32m      5\u001b[0m highest_rated_movie_id \u001b[38;5;241m=\u001b[39m highest_rated_movie[\u001b[38;5;124m'\u001b[39m\u001b[38;5;124mmovieId\u001b[39m\u001b[38;5;124m'\u001b[39m]\n",
      "File \u001b[0;32m~/.local/lib/python3.8/site-packages/pandas/core/series.py:2531\u001b[0m, in \u001b[0;36mSeries.idxmax\u001b[0;34m(self, axis, skipna, *args, **kwargs)\u001b[0m\n\u001b[1;32m   2466\u001b[0m \u001b[38;5;250m\u001b[39m\u001b[38;5;124;03m\"\"\"\u001b[39;00m\n\u001b[1;32m   2467\u001b[0m \u001b[38;5;124;03mReturn the row label of the maximum value.\u001b[39;00m\n\u001b[1;32m   2468\u001b[0m \n\u001b[0;32m   (...)\u001b[0m\n\u001b[1;32m   2527\u001b[0m \u001b[38;5;124;03mnan\u001b[39;00m\n\u001b[1;32m   2528\u001b[0m \u001b[38;5;124;03m\"\"\"\u001b[39;00m\n\u001b[1;32m   2529\u001b[0m \u001b[38;5;66;03m# error: Argument 1 to \"argmax\" of \"IndexOpsMixin\" has incompatible type\u001b[39;00m\n\u001b[1;32m   2530\u001b[0m \u001b[38;5;66;03m# \"Union[int, Literal['index', 'columns']]\"; expected \"Optional[int]\"\u001b[39;00m\n\u001b[0;32m-> 2531\u001b[0m i \u001b[38;5;241m=\u001b[39m \u001b[38;5;28;43mself\u001b[39;49m\u001b[38;5;241;43m.\u001b[39;49m\u001b[43margmax\u001b[49m\u001b[43m(\u001b[49m\u001b[43maxis\u001b[49m\u001b[43m,\u001b[49m\u001b[43m \u001b[49m\u001b[43mskipna\u001b[49m\u001b[43m,\u001b[49m\u001b[43m \u001b[49m\u001b[38;5;241;43m*\u001b[39;49m\u001b[43margs\u001b[49m\u001b[43m,\u001b[49m\u001b[43m \u001b[49m\u001b[38;5;241;43m*\u001b[39;49m\u001b[38;5;241;43m*\u001b[39;49m\u001b[43mkwargs\u001b[49m\u001b[43m)\u001b[49m  \u001b[38;5;66;03m# type: ignore[arg-type]\u001b[39;00m\n\u001b[1;32m   2532\u001b[0m \u001b[38;5;28;01mif\u001b[39;00m i \u001b[38;5;241m==\u001b[39m \u001b[38;5;241m-\u001b[39m\u001b[38;5;241m1\u001b[39m:\n\u001b[1;32m   2533\u001b[0m     \u001b[38;5;28;01mreturn\u001b[39;00m np\u001b[38;5;241m.\u001b[39mnan\n",
      "File \u001b[0;32m~/.local/lib/python3.8/site-packages/pandas/core/base.py:678\u001b[0m, in \u001b[0;36mIndexOpsMixin.argmax\u001b[0;34m(self, axis, skipna, *args, **kwargs)\u001b[0m\n\u001b[1;32m    674\u001b[0m         \u001b[38;5;28;01mreturn\u001b[39;00m delegate\u001b[38;5;241m.\u001b[39margmax()\n\u001b[1;32m    675\u001b[0m \u001b[38;5;28;01melse\u001b[39;00m:\n\u001b[1;32m    676\u001b[0m     \u001b[38;5;66;03m# error: Incompatible return value type (got \"Union[int, ndarray]\", expected\u001b[39;00m\n\u001b[1;32m    677\u001b[0m     \u001b[38;5;66;03m# \"int\")\u001b[39;00m\n\u001b[0;32m--> 678\u001b[0m     \u001b[38;5;28;01mreturn\u001b[39;00m \u001b[43mnanops\u001b[49m\u001b[38;5;241;43m.\u001b[39;49m\u001b[43mnanargmax\u001b[49m\u001b[43m(\u001b[49m\u001b[43m  \u001b[49m\u001b[38;5;66;43;03m# type: ignore[return-value]\u001b[39;49;00m\n\u001b[1;32m    679\u001b[0m \u001b[43m        \u001b[49m\u001b[43mdelegate\u001b[49m\u001b[43m,\u001b[49m\u001b[43m \u001b[49m\u001b[43mskipna\u001b[49m\u001b[38;5;241;43m=\u001b[39;49m\u001b[43mskipna\u001b[49m\n\u001b[1;32m    680\u001b[0m \u001b[43m    \u001b[49m\u001b[43m)\u001b[49m\n",
      "File \u001b[0;32m~/.local/lib/python3.8/site-packages/pandas/core/nanops.py:96\u001b[0m, in \u001b[0;36mdisallow.__call__.<locals>._f\u001b[0;34m(*args, **kwargs)\u001b[0m\n\u001b[1;32m     94\u001b[0m \u001b[38;5;28;01mtry\u001b[39;00m:\n\u001b[1;32m     95\u001b[0m     \u001b[38;5;28;01mwith\u001b[39;00m np\u001b[38;5;241m.\u001b[39merrstate(invalid\u001b[38;5;241m=\u001b[39m\u001b[38;5;124m\"\u001b[39m\u001b[38;5;124mignore\u001b[39m\u001b[38;5;124m\"\u001b[39m):\n\u001b[0;32m---> 96\u001b[0m         \u001b[38;5;28;01mreturn\u001b[39;00m \u001b[43mf\u001b[49m\u001b[43m(\u001b[49m\u001b[38;5;241;43m*\u001b[39;49m\u001b[43margs\u001b[49m\u001b[43m,\u001b[49m\u001b[43m \u001b[49m\u001b[38;5;241;43m*\u001b[39;49m\u001b[38;5;241;43m*\u001b[39;49m\u001b[43mkwargs\u001b[49m\u001b[43m)\u001b[49m\n\u001b[1;32m     97\u001b[0m \u001b[38;5;28;01mexcept\u001b[39;00m \u001b[38;5;167;01mValueError\u001b[39;00m \u001b[38;5;28;01mas\u001b[39;00m e:\n\u001b[1;32m     98\u001b[0m     \u001b[38;5;66;03m# we want to transform an object array\u001b[39;00m\n\u001b[1;32m     99\u001b[0m     \u001b[38;5;66;03m# ValueError message to the more typical TypeError\u001b[39;00m\n\u001b[1;32m    100\u001b[0m     \u001b[38;5;66;03m# e.g. this is normally a disallowed function on\u001b[39;00m\n\u001b[1;32m    101\u001b[0m     \u001b[38;5;66;03m# object arrays that contain strings\u001b[39;00m\n\u001b[1;32m    102\u001b[0m     \u001b[38;5;28;01mif\u001b[39;00m is_object_dtype(args[\u001b[38;5;241m0\u001b[39m]):\n",
      "File \u001b[0;32m~/.local/lib/python3.8/site-packages/pandas/core/nanops.py:1147\u001b[0m, in \u001b[0;36mnanargmax\u001b[0;34m(values, axis, skipna, mask)\u001b[0m\n\u001b[1;32m   1145\u001b[0m values, mask, _, _, _ \u001b[38;5;241m=\u001b[39m _get_values(values, \u001b[38;5;28;01mTrue\u001b[39;00m, fill_value_typ\u001b[38;5;241m=\u001b[39m\u001b[38;5;124m\"\u001b[39m\u001b[38;5;124m-inf\u001b[39m\u001b[38;5;124m\"\u001b[39m, mask\u001b[38;5;241m=\u001b[39mmask)\n\u001b[1;32m   1146\u001b[0m \u001b[38;5;66;03m# error: Need type annotation for 'result'\u001b[39;00m\n\u001b[0;32m-> 1147\u001b[0m result \u001b[38;5;241m=\u001b[39m \u001b[43mvalues\u001b[49m\u001b[38;5;241;43m.\u001b[39;49m\u001b[43margmax\u001b[49m\u001b[43m(\u001b[49m\u001b[43maxis\u001b[49m\u001b[43m)\u001b[49m  \u001b[38;5;66;03m# type: ignore[var-annotated]\u001b[39;00m\n\u001b[1;32m   1148\u001b[0m result \u001b[38;5;241m=\u001b[39m _maybe_arg_null_out(result, axis, mask, skipna)\n\u001b[1;32m   1149\u001b[0m \u001b[38;5;28;01mreturn\u001b[39;00m result\n",
      "\u001b[0;31mValueError\u001b[0m: attempt to get argmax of an empty sequence"
     ]
    }
   ],
   "source": [
    "# Find the movie with the highest IMDB rating\n",
    "highest_rated_movie = movies_with_ratings_df.loc[movies_with_ratings_df['imdbRating'].idxmax()]\n",
    "\n",
    "# Extract the movieId\n",
    "highest_rated_movie_id = highest_rated_movie['movieId']\n",
    "\n",
    "print(f\"The movieId of the movie with the highest IMDB rating is: {highest_rated_movie_id}\")\n"
   ]
  },
  {
   "cell_type": "code",
   "execution_count": 6,
   "metadata": {},
   "outputs": [
    {
     "name": "stdout",
     "output_type": "stream",
     "text": [
      "The DataFrame is empty.\n"
     ]
    }
   ],
   "source": [
    "if movies_with_ratings_df.empty:\n",
    "    print(\"The DataFrame is empty.\")\n"
   ]
  },
  {
   "cell_type": "code",
   "execution_count": 8,
   "metadata": {},
   "outputs": [],
   "source": [
    "if 'imdbRating' not in movies_with_ratings_df.columns:\n",
    "    print(\"The 'imdbRating' column is missing.\")\n"
   ]
  },
  {
   "cell_type": "code",
   "execution_count": 9,
   "metadata": {},
   "outputs": [
    {
     "name": "stdout",
     "output_type": "stream",
     "text": [
      "0\n"
     ]
    }
   ],
   "source": [
    "print(movies_with_ratings_df['imdbRating'].isna().sum())\n"
   ]
  },
  {
   "cell_type": "code",
   "execution_count": 10,
   "metadata": {},
   "outputs": [
    {
     "ename": "FileNotFoundError",
     "evalue": "[Errno 2] No such file or directory: 'path_to_your_filtered_movies_with_ratings.csv'",
     "output_type": "error",
     "traceback": [
      "\u001b[0;31m---------------------------------------------------------------------------\u001b[0m",
      "\u001b[0;31mFileNotFoundError\u001b[0m                         Traceback (most recent call last)",
      "Cell \u001b[0;32mIn[10], line 4\u001b[0m\n\u001b[1;32m      1\u001b[0m \u001b[38;5;28;01mimport\u001b[39;00m \u001b[38;5;21;01mpandas\u001b[39;00m \u001b[38;5;28;01mas\u001b[39;00m \u001b[38;5;21;01mpd\u001b[39;00m\n\u001b[1;32m      3\u001b[0m \u001b[38;5;66;03m# Load your DataFrame (Replace with your actual file paths)\u001b[39;00m\n\u001b[0;32m----> 4\u001b[0m movies_with_ratings_df \u001b[38;5;241m=\u001b[39m \u001b[43mpd\u001b[49m\u001b[38;5;241;43m.\u001b[39;49m\u001b[43mread_csv\u001b[49m\u001b[43m(\u001b[49m\u001b[38;5;124;43m'\u001b[39;49m\u001b[38;5;124;43mpath_to_your_filtered_movies_with_ratings.csv\u001b[39;49m\u001b[38;5;124;43m'\u001b[39;49m\u001b[43m)\u001b[49m\n\u001b[1;32m      6\u001b[0m \u001b[38;5;66;03m# Check if DataFrame is empty\u001b[39;00m\n\u001b[1;32m      7\u001b[0m \u001b[38;5;28;01mif\u001b[39;00m movies_with_ratings_df\u001b[38;5;241m.\u001b[39mempty:\n",
      "File \u001b[0;32m~/.local/lib/python3.8/site-packages/pandas/io/parsers/readers.py:912\u001b[0m, in \u001b[0;36mread_csv\u001b[0;34m(filepath_or_buffer, sep, delimiter, header, names, index_col, usecols, dtype, engine, converters, true_values, false_values, skipinitialspace, skiprows, skipfooter, nrows, na_values, keep_default_na, na_filter, verbose, skip_blank_lines, parse_dates, infer_datetime_format, keep_date_col, date_parser, date_format, dayfirst, cache_dates, iterator, chunksize, compression, thousands, decimal, lineterminator, quotechar, quoting, doublequote, escapechar, comment, encoding, encoding_errors, dialect, on_bad_lines, delim_whitespace, low_memory, memory_map, float_precision, storage_options, dtype_backend)\u001b[0m\n\u001b[1;32m    899\u001b[0m kwds_defaults \u001b[38;5;241m=\u001b[39m _refine_defaults_read(\n\u001b[1;32m    900\u001b[0m     dialect,\n\u001b[1;32m    901\u001b[0m     delimiter,\n\u001b[0;32m   (...)\u001b[0m\n\u001b[1;32m    908\u001b[0m     dtype_backend\u001b[38;5;241m=\u001b[39mdtype_backend,\n\u001b[1;32m    909\u001b[0m )\n\u001b[1;32m    910\u001b[0m kwds\u001b[38;5;241m.\u001b[39mupdate(kwds_defaults)\n\u001b[0;32m--> 912\u001b[0m \u001b[38;5;28;01mreturn\u001b[39;00m \u001b[43m_read\u001b[49m\u001b[43m(\u001b[49m\u001b[43mfilepath_or_buffer\u001b[49m\u001b[43m,\u001b[49m\u001b[43m \u001b[49m\u001b[43mkwds\u001b[49m\u001b[43m)\u001b[49m\n",
      "File \u001b[0;32m~/.local/lib/python3.8/site-packages/pandas/io/parsers/readers.py:577\u001b[0m, in \u001b[0;36m_read\u001b[0;34m(filepath_or_buffer, kwds)\u001b[0m\n\u001b[1;32m    574\u001b[0m _validate_names(kwds\u001b[38;5;241m.\u001b[39mget(\u001b[38;5;124m\"\u001b[39m\u001b[38;5;124mnames\u001b[39m\u001b[38;5;124m\"\u001b[39m, \u001b[38;5;28;01mNone\u001b[39;00m))\n\u001b[1;32m    576\u001b[0m \u001b[38;5;66;03m# Create the parser.\u001b[39;00m\n\u001b[0;32m--> 577\u001b[0m parser \u001b[38;5;241m=\u001b[39m \u001b[43mTextFileReader\u001b[49m\u001b[43m(\u001b[49m\u001b[43mfilepath_or_buffer\u001b[49m\u001b[43m,\u001b[49m\u001b[43m \u001b[49m\u001b[38;5;241;43m*\u001b[39;49m\u001b[38;5;241;43m*\u001b[39;49m\u001b[43mkwds\u001b[49m\u001b[43m)\u001b[49m\n\u001b[1;32m    579\u001b[0m \u001b[38;5;28;01mif\u001b[39;00m chunksize \u001b[38;5;129;01mor\u001b[39;00m iterator:\n\u001b[1;32m    580\u001b[0m     \u001b[38;5;28;01mreturn\u001b[39;00m parser\n",
      "File \u001b[0;32m~/.local/lib/python3.8/site-packages/pandas/io/parsers/readers.py:1407\u001b[0m, in \u001b[0;36mTextFileReader.__init__\u001b[0;34m(self, f, engine, **kwds)\u001b[0m\n\u001b[1;32m   1404\u001b[0m     \u001b[38;5;28mself\u001b[39m\u001b[38;5;241m.\u001b[39moptions[\u001b[38;5;124m\"\u001b[39m\u001b[38;5;124mhas_index_names\u001b[39m\u001b[38;5;124m\"\u001b[39m] \u001b[38;5;241m=\u001b[39m kwds[\u001b[38;5;124m\"\u001b[39m\u001b[38;5;124mhas_index_names\u001b[39m\u001b[38;5;124m\"\u001b[39m]\n\u001b[1;32m   1406\u001b[0m \u001b[38;5;28mself\u001b[39m\u001b[38;5;241m.\u001b[39mhandles: IOHandles \u001b[38;5;241m|\u001b[39m \u001b[38;5;28;01mNone\u001b[39;00m \u001b[38;5;241m=\u001b[39m \u001b[38;5;28;01mNone\u001b[39;00m\n\u001b[0;32m-> 1407\u001b[0m \u001b[38;5;28mself\u001b[39m\u001b[38;5;241m.\u001b[39m_engine \u001b[38;5;241m=\u001b[39m \u001b[38;5;28;43mself\u001b[39;49m\u001b[38;5;241;43m.\u001b[39;49m\u001b[43m_make_engine\u001b[49m\u001b[43m(\u001b[49m\u001b[43mf\u001b[49m\u001b[43m,\u001b[49m\u001b[43m \u001b[49m\u001b[38;5;28;43mself\u001b[39;49m\u001b[38;5;241;43m.\u001b[39;49m\u001b[43mengine\u001b[49m\u001b[43m)\u001b[49m\n",
      "File \u001b[0;32m~/.local/lib/python3.8/site-packages/pandas/io/parsers/readers.py:1661\u001b[0m, in \u001b[0;36mTextFileReader._make_engine\u001b[0;34m(self, f, engine)\u001b[0m\n\u001b[1;32m   1659\u001b[0m     \u001b[38;5;28;01mif\u001b[39;00m \u001b[38;5;124m\"\u001b[39m\u001b[38;5;124mb\u001b[39m\u001b[38;5;124m\"\u001b[39m \u001b[38;5;129;01mnot\u001b[39;00m \u001b[38;5;129;01min\u001b[39;00m mode:\n\u001b[1;32m   1660\u001b[0m         mode \u001b[38;5;241m+\u001b[39m\u001b[38;5;241m=\u001b[39m \u001b[38;5;124m\"\u001b[39m\u001b[38;5;124mb\u001b[39m\u001b[38;5;124m\"\u001b[39m\n\u001b[0;32m-> 1661\u001b[0m \u001b[38;5;28mself\u001b[39m\u001b[38;5;241m.\u001b[39mhandles \u001b[38;5;241m=\u001b[39m \u001b[43mget_handle\u001b[49m\u001b[43m(\u001b[49m\n\u001b[1;32m   1662\u001b[0m \u001b[43m    \u001b[49m\u001b[43mf\u001b[49m\u001b[43m,\u001b[49m\n\u001b[1;32m   1663\u001b[0m \u001b[43m    \u001b[49m\u001b[43mmode\u001b[49m\u001b[43m,\u001b[49m\n\u001b[1;32m   1664\u001b[0m \u001b[43m    \u001b[49m\u001b[43mencoding\u001b[49m\u001b[38;5;241;43m=\u001b[39;49m\u001b[38;5;28;43mself\u001b[39;49m\u001b[38;5;241;43m.\u001b[39;49m\u001b[43moptions\u001b[49m\u001b[38;5;241;43m.\u001b[39;49m\u001b[43mget\u001b[49m\u001b[43m(\u001b[49m\u001b[38;5;124;43m\"\u001b[39;49m\u001b[38;5;124;43mencoding\u001b[39;49m\u001b[38;5;124;43m\"\u001b[39;49m\u001b[43m,\u001b[49m\u001b[43m \u001b[49m\u001b[38;5;28;43;01mNone\u001b[39;49;00m\u001b[43m)\u001b[49m\u001b[43m,\u001b[49m\n\u001b[1;32m   1665\u001b[0m \u001b[43m    \u001b[49m\u001b[43mcompression\u001b[49m\u001b[38;5;241;43m=\u001b[39;49m\u001b[38;5;28;43mself\u001b[39;49m\u001b[38;5;241;43m.\u001b[39;49m\u001b[43moptions\u001b[49m\u001b[38;5;241;43m.\u001b[39;49m\u001b[43mget\u001b[49m\u001b[43m(\u001b[49m\u001b[38;5;124;43m\"\u001b[39;49m\u001b[38;5;124;43mcompression\u001b[39;49m\u001b[38;5;124;43m\"\u001b[39;49m\u001b[43m,\u001b[49m\u001b[43m \u001b[49m\u001b[38;5;28;43;01mNone\u001b[39;49;00m\u001b[43m)\u001b[49m\u001b[43m,\u001b[49m\n\u001b[1;32m   1666\u001b[0m \u001b[43m    \u001b[49m\u001b[43mmemory_map\u001b[49m\u001b[38;5;241;43m=\u001b[39;49m\u001b[38;5;28;43mself\u001b[39;49m\u001b[38;5;241;43m.\u001b[39;49m\u001b[43moptions\u001b[49m\u001b[38;5;241;43m.\u001b[39;49m\u001b[43mget\u001b[49m\u001b[43m(\u001b[49m\u001b[38;5;124;43m\"\u001b[39;49m\u001b[38;5;124;43mmemory_map\u001b[39;49m\u001b[38;5;124;43m\"\u001b[39;49m\u001b[43m,\u001b[49m\u001b[43m \u001b[49m\u001b[38;5;28;43;01mFalse\u001b[39;49;00m\u001b[43m)\u001b[49m\u001b[43m,\u001b[49m\n\u001b[1;32m   1667\u001b[0m \u001b[43m    \u001b[49m\u001b[43mis_text\u001b[49m\u001b[38;5;241;43m=\u001b[39;49m\u001b[43mis_text\u001b[49m\u001b[43m,\u001b[49m\n\u001b[1;32m   1668\u001b[0m \u001b[43m    \u001b[49m\u001b[43merrors\u001b[49m\u001b[38;5;241;43m=\u001b[39;49m\u001b[38;5;28;43mself\u001b[39;49m\u001b[38;5;241;43m.\u001b[39;49m\u001b[43moptions\u001b[49m\u001b[38;5;241;43m.\u001b[39;49m\u001b[43mget\u001b[49m\u001b[43m(\u001b[49m\u001b[38;5;124;43m\"\u001b[39;49m\u001b[38;5;124;43mencoding_errors\u001b[39;49m\u001b[38;5;124;43m\"\u001b[39;49m\u001b[43m,\u001b[49m\u001b[43m \u001b[49m\u001b[38;5;124;43m\"\u001b[39;49m\u001b[38;5;124;43mstrict\u001b[39;49m\u001b[38;5;124;43m\"\u001b[39;49m\u001b[43m)\u001b[49m\u001b[43m,\u001b[49m\n\u001b[1;32m   1669\u001b[0m \u001b[43m    \u001b[49m\u001b[43mstorage_options\u001b[49m\u001b[38;5;241;43m=\u001b[39;49m\u001b[38;5;28;43mself\u001b[39;49m\u001b[38;5;241;43m.\u001b[39;49m\u001b[43moptions\u001b[49m\u001b[38;5;241;43m.\u001b[39;49m\u001b[43mget\u001b[49m\u001b[43m(\u001b[49m\u001b[38;5;124;43m\"\u001b[39;49m\u001b[38;5;124;43mstorage_options\u001b[39;49m\u001b[38;5;124;43m\"\u001b[39;49m\u001b[43m,\u001b[49m\u001b[43m \u001b[49m\u001b[38;5;28;43;01mNone\u001b[39;49;00m\u001b[43m)\u001b[49m\u001b[43m,\u001b[49m\n\u001b[1;32m   1670\u001b[0m \u001b[43m\u001b[49m\u001b[43m)\u001b[49m\n\u001b[1;32m   1671\u001b[0m \u001b[38;5;28;01massert\u001b[39;00m \u001b[38;5;28mself\u001b[39m\u001b[38;5;241m.\u001b[39mhandles \u001b[38;5;129;01mis\u001b[39;00m \u001b[38;5;129;01mnot\u001b[39;00m \u001b[38;5;28;01mNone\u001b[39;00m\n\u001b[1;32m   1672\u001b[0m f \u001b[38;5;241m=\u001b[39m \u001b[38;5;28mself\u001b[39m\u001b[38;5;241m.\u001b[39mhandles\u001b[38;5;241m.\u001b[39mhandle\n",
      "File \u001b[0;32m~/.local/lib/python3.8/site-packages/pandas/io/common.py:859\u001b[0m, in \u001b[0;36mget_handle\u001b[0;34m(path_or_buf, mode, encoding, compression, memory_map, is_text, errors, storage_options)\u001b[0m\n\u001b[1;32m    854\u001b[0m \u001b[38;5;28;01melif\u001b[39;00m \u001b[38;5;28misinstance\u001b[39m(handle, \u001b[38;5;28mstr\u001b[39m):\n\u001b[1;32m    855\u001b[0m     \u001b[38;5;66;03m# Check whether the filename is to be opened in binary mode.\u001b[39;00m\n\u001b[1;32m    856\u001b[0m     \u001b[38;5;66;03m# Binary mode does not support 'encoding' and 'newline'.\u001b[39;00m\n\u001b[1;32m    857\u001b[0m     \u001b[38;5;28;01mif\u001b[39;00m ioargs\u001b[38;5;241m.\u001b[39mencoding \u001b[38;5;129;01mand\u001b[39;00m \u001b[38;5;124m\"\u001b[39m\u001b[38;5;124mb\u001b[39m\u001b[38;5;124m\"\u001b[39m \u001b[38;5;129;01mnot\u001b[39;00m \u001b[38;5;129;01min\u001b[39;00m ioargs\u001b[38;5;241m.\u001b[39mmode:\n\u001b[1;32m    858\u001b[0m         \u001b[38;5;66;03m# Encoding\u001b[39;00m\n\u001b[0;32m--> 859\u001b[0m         handle \u001b[38;5;241m=\u001b[39m \u001b[38;5;28;43mopen\u001b[39;49m\u001b[43m(\u001b[49m\n\u001b[1;32m    860\u001b[0m \u001b[43m            \u001b[49m\u001b[43mhandle\u001b[49m\u001b[43m,\u001b[49m\n\u001b[1;32m    861\u001b[0m \u001b[43m            \u001b[49m\u001b[43mioargs\u001b[49m\u001b[38;5;241;43m.\u001b[39;49m\u001b[43mmode\u001b[49m\u001b[43m,\u001b[49m\n\u001b[1;32m    862\u001b[0m \u001b[43m            \u001b[49m\u001b[43mencoding\u001b[49m\u001b[38;5;241;43m=\u001b[39;49m\u001b[43mioargs\u001b[49m\u001b[38;5;241;43m.\u001b[39;49m\u001b[43mencoding\u001b[49m\u001b[43m,\u001b[49m\n\u001b[1;32m    863\u001b[0m \u001b[43m            \u001b[49m\u001b[43merrors\u001b[49m\u001b[38;5;241;43m=\u001b[39;49m\u001b[43merrors\u001b[49m\u001b[43m,\u001b[49m\n\u001b[1;32m    864\u001b[0m \u001b[43m            \u001b[49m\u001b[43mnewline\u001b[49m\u001b[38;5;241;43m=\u001b[39;49m\u001b[38;5;124;43m\"\u001b[39;49m\u001b[38;5;124;43m\"\u001b[39;49m\u001b[43m,\u001b[49m\n\u001b[1;32m    865\u001b[0m \u001b[43m        \u001b[49m\u001b[43m)\u001b[49m\n\u001b[1;32m    866\u001b[0m     \u001b[38;5;28;01melse\u001b[39;00m:\n\u001b[1;32m    867\u001b[0m         \u001b[38;5;66;03m# Binary mode\u001b[39;00m\n\u001b[1;32m    868\u001b[0m         handle \u001b[38;5;241m=\u001b[39m \u001b[38;5;28mopen\u001b[39m(handle, ioargs\u001b[38;5;241m.\u001b[39mmode)\n",
      "\u001b[0;31mFileNotFoundError\u001b[0m: [Errno 2] No such file or directory: 'path_to_your_filtered_movies_with_ratings.csv'"
     ]
    }
   ],
   "source": [
    "import pandas as pd\n",
    "\n",
    "# Load your DataFrame (Replace with your actual file paths)\n",
    "movies_with_ratings_df = pd.read_csv('path_to_your_filtered_movies_with_ratings.csv')\n",
    "\n",
    "# Check if DataFrame is empty\n",
    "if movies_with_ratings_df.empty:\n",
    "    print(\"The DataFrame is empty.\")\n",
    "else:\n",
    "    # Check if 'imdbRating' column exists\n",
    "    if 'imdbRating' not in movies_with_ratings_df.columns:\n",
    "        print(\"The 'imdbRating' column is missing.\")\n",
    "    else:\n",
    "        # Drop rows with NaN values in 'imdbRating'\n",
    "        movies_with_ratings_df = movies_with_ratings_df.dropna(subset=['imdbRating'])\n",
    "\n",
    "        # Check if there are any rows left after dropping NaNs\n",
    "        if movies_with_ratings_df.empty:\n",
    "            print(\"No rows with valid 'imdbRating' values.\")\n",
    "        else:\n",
    "            # Find the movie with the highest IMDB rating\n",
    "            highest_rated_movie = movies_with_ratings_df.loc[movies_with_ratings_df['imdbRating'].idxmax()]\n",
    "\n",
    "            # Extract the movieId\n",
    "            highest_rated_movie_id = highest_rated_movie['movieId']\n",
    "            print(f\"The movieId of the movie with the highest IMDB rating is: {highest_rated_movie_id}\")\n"
   ]
  },
  {
   "cell_type": "code",
   "execution_count": 12,
   "metadata": {},
   "outputs": [
    {
     "name": "stdout",
     "output_type": "stream",
     "text": [
      "   movieId                               title  \\\n",
      "0        1                    Toy Story (1995)   \n",
      "1        2                      Jumanji (1995)   \n",
      "2        3             Grumpier Old Men (1995)   \n",
      "3        4            Waiting to Exhale (1995)   \n",
      "4        5  Father of the Bride Part II (1995)   \n",
      "\n",
      "                                        genres  \n",
      "0  Adventure|Animation|Children|Comedy|Fantasy  \n",
      "1                   Adventure|Children|Fantasy  \n",
      "2                               Comedy|Romance  \n",
      "3                         Comedy|Drama|Romance  \n",
      "4                                       Comedy  \n",
      "   userId  movieId  rating  timestamp\n",
      "0       1        1     4.0  964982703\n",
      "1       1        3     4.0  964981247\n",
      "2       1        6     4.0  964982224\n",
      "3       1       47     5.0  964983815\n",
      "4       1       50     5.0  964982931\n"
     ]
    }
   ],
   "source": [
    "import pandas as pd\n",
    "\n",
    "# Load the CSV files\n",
    "movies_df = pd.read_csv('/home/rguktongole/Downloads/movie_data/movies.csv')\n",
    "ratings_df = pd.read_csv('/home/rguktongole/Downloads/movie_data/ratings.csv')\n",
    "\n",
    "# Display the first few rows of each DataFrame to confirm they contain data\n",
    "print(movies_df.head())\n",
    "print(ratings_df.head())\n"
   ]
  },
  {
   "cell_type": "code",
   "execution_count": 13,
   "metadata": {},
   "outputs": [
    {
     "name": "stdout",
     "output_type": "stream",
     "text": [
      "   movieId                    title  \\\n",
      "0        1         Toy Story (1995)   \n",
      "1        2           Jumanji (1995)   \n",
      "2        3  Grumpier Old Men (1995)   \n",
      "3        6              Heat (1995)   \n",
      "4        7           Sabrina (1995)   \n",
      "\n",
      "                                        genres  rating_count  rating_mean  \\\n",
      "0  Adventure|Animation|Children|Comedy|Fantasy           215     3.920930   \n",
      "1                   Adventure|Children|Fantasy           110     3.431818   \n",
      "2                               Comedy|Romance            52     3.259615   \n",
      "3                        Action|Crime|Thriller           102     3.946078   \n",
      "4                               Comedy|Romance            54     3.185185   \n",
      "\n",
      "   imdbId   tmdbId  \n",
      "0  114709    862.0  \n",
      "1  113497   8844.0  \n",
      "2  113228  15602.0  \n",
      "3  113277    949.0  \n",
      "4  114319  11860.0  \n"
     ]
    },
    {
     "ename": "NameError",
     "evalue": "name 'movies_with_imdb_ratings_df' is not defined",
     "output_type": "error",
     "traceback": [
      "\u001b[0;31m---------------------------------------------------------------------------\u001b[0m",
      "\u001b[0;31mNameError\u001b[0m                                 Traceback (most recent call last)",
      "Cell \u001b[0;32mIn[13], line 36\u001b[0m\n\u001b[1;32m     22\u001b[0m \u001b[38;5;28mprint\u001b[39m(movies_with_links_df\u001b[38;5;241m.\u001b[39mhead())\n\u001b[1;32m     24\u001b[0m \u001b[38;5;66;03m# Scrape IMDb ratings (Example placeholder, replace with actual scraping code if necessary)\u001b[39;00m\n\u001b[1;32m     25\u001b[0m \u001b[38;5;66;03m# This step involves web scraping and might require additional tools like BeautifulSoup and requests\u001b[39;00m\n\u001b[1;32m     26\u001b[0m \n\u001b[0;32m   (...)\u001b[0m\n\u001b[1;32m     34\u001b[0m \n\u001b[1;32m     35\u001b[0m \u001b[38;5;66;03m# Find the movie with the highest IMDb rating\u001b[39;00m\n\u001b[0;32m---> 36\u001b[0m highest_rated_movie \u001b[38;5;241m=\u001b[39m \u001b[43mmovies_with_imdb_ratings_df\u001b[49m\u001b[38;5;241m.\u001b[39mloc[movies_with_imdb_ratings_df[\u001b[38;5;124m'\u001b[39m\u001b[38;5;124mimdbRating\u001b[39m\u001b[38;5;124m'\u001b[39m]\u001b[38;5;241m.\u001b[39midxmax()]\n\u001b[1;32m     37\u001b[0m highest_rated_movie_id \u001b[38;5;241m=\u001b[39m highest_rated_movie[\u001b[38;5;124m'\u001b[39m\u001b[38;5;124mmovieId\u001b[39m\u001b[38;5;124m'\u001b[39m]\n\u001b[1;32m     39\u001b[0m \u001b[38;5;28mprint\u001b[39m(\u001b[38;5;124mf\u001b[39m\u001b[38;5;124m\"\u001b[39m\u001b[38;5;124mThe movieId of the movie with the highest IMDB rating is: \u001b[39m\u001b[38;5;132;01m{\u001b[39;00mhighest_rated_movie_id\u001b[38;5;132;01m}\u001b[39;00m\u001b[38;5;124m\"\u001b[39m)\n",
      "\u001b[0;31mNameError\u001b[0m: name 'movies_with_imdb_ratings_df' is not defined"
     ]
    }
   ],
   "source": [
    "import pandas as pd\n",
    "\n",
    "# Load the datasets\n",
    "movies_df = pd.read_csv('/home/rguktongole/Downloads/movie_data/movies.csv')\n",
    "ratings_df = pd.read_csv('/home/rguktongole/Downloads/movie_data/ratings.csv')\n",
    "links_df = pd.read_csv('/home/rguktongole/Downloads/movie_data/links.csv')\n",
    "\n",
    "# Step 1: Group ratings by movieId and calculate count and mean\n",
    "ratings_grouped = ratings_df.groupby('movieId').agg({'rating': ['count', 'mean']}).reset_index()\n",
    "ratings_grouped.columns = ['movieId', 'rating_count', 'rating_mean']\n",
    "\n",
    "# Step 2: Merge with movies DataFrame\n",
    "movies_with_ratings_df = pd.merge(movies_df, ratings_grouped, on='movieId')\n",
    "\n",
    "# Step 3: Filter movies with more than 50 ratings\n",
    "filtered_movies_df = movies_with_ratings_df[movies_with_ratings_df['rating_count'] > 50]\n",
    "\n",
    "# Step 4: Merge with links to get IMDb IDs\n",
    "movies_with_links_df = pd.merge(filtered_movies_df, links_df, on='movieId')\n",
    "\n",
    "# Check if IMDb URLs and ratings are available\n",
    "print(movies_with_links_df.head())\n",
    "\n",
    "# Scrape IMDb ratings (Example placeholder, replace with actual scraping code if necessary)\n",
    "# This step involves web scraping and might require additional tools like BeautifulSoup and requests\n",
    "\n",
    "# Step 5: Assume we have a DataFrame 'movies_with_imdb_ratings_df' with IMDb ratings\n",
    "# For demonstration, assume you have scraped IMDb ratings and added them to the DataFrame\n",
    "# Here is how you would find the movie with the highest IMDb rating\n",
    "\n",
    "# Example DataFrame with IMDb ratings\n",
    "# movies_with_imdb_ratings_df = movies_with_links_df.copy()\n",
    "# movies_with_imdb_ratings_df['imdbRating'] = [scraped_rating]  # Replace with actual ratings\n",
    "\n",
    "# Find the movie with the highest IMDb rating\n",
    "highest_rated_movie = movies_with_imdb_ratings_df.loc[movies_with_imdb_ratings_df['imdbRating'].idxmax()]\n",
    "highest_rated_movie_id = highest_rated_movie['movieId']\n",
    "\n",
    "print(f\"The movieId of the movie with the highest IMDB rating is: {highest_rated_movie_id}\")\n"
   ]
  },
  {
   "cell_type": "code",
   "execution_count": 14,
   "metadata": {},
   "outputs": [
    {
     "name": "stdout",
     "output_type": "stream",
     "text": [
      "   movieId                    title  \\\n",
      "0        1         Toy Story (1995)   \n",
      "1        2           Jumanji (1995)   \n",
      "2        3  Grumpier Old Men (1995)   \n",
      "3        6              Heat (1995)   \n",
      "4        7           Sabrina (1995)   \n",
      "\n",
      "                                        genres  rating_count  rating_mean  \\\n",
      "0  Adventure|Animation|Children|Comedy|Fantasy           215     3.920930   \n",
      "1                   Adventure|Children|Fantasy           110     3.431818   \n",
      "2                               Comedy|Romance            52     3.259615   \n",
      "3                        Action|Crime|Thriller           102     3.946078   \n",
      "4                               Comedy|Romance            54     3.185185   \n",
      "\n",
      "   imdbId   tmdbId  \n",
      "0  114709    862.0  \n",
      "1  113497   8844.0  \n",
      "2  113228  15602.0  \n",
      "3  113277    949.0  \n",
      "4  114319  11860.0  \n",
      "The movieId of the movie with the highest IMDB rating is: 2\n"
     ]
    }
   ],
   "source": [
    "import pandas as pd\n",
    "\n",
    "# Load the datasets\n",
    "movies_df = pd.read_csv('/home/rguktongole/Downloads/movie_data/movies.csv')\n",
    "ratings_df = pd.read_csv('/home/rguktongole/Downloads/movie_data/ratings.csv')\n",
    "links_df = pd.read_csv('/home/rguktongole/Downloads/movie_data/links.csv')\n",
    "\n",
    "# Step 1: Group ratings by movieId and calculate count and mean\n",
    "ratings_grouped = ratings_df.groupby('movieId').agg({'rating': ['count', 'mean']}).reset_index()\n",
    "ratings_grouped.columns = ['movieId', 'rating_count', 'rating_mean']\n",
    "\n",
    "# Step 2: Merge with movies DataFrame\n",
    "movies_with_ratings_df = pd.merge(movies_df, ratings_grouped, on='movieId')\n",
    "\n",
    "# Step 3: Filter movies with more than 50 ratings\n",
    "filtered_movies_df = movies_with_ratings_df[movies_with_ratings_df['rating_count'] > 50]\n",
    "\n",
    "# Step 4: Merge with links to get IMDb IDs\n",
    "movies_with_links_df = pd.merge(filtered_movies_df, links_df, on='movieId')\n",
    "\n",
    "# Display the merged DataFrame to verify IMDb IDs are included\n",
    "print(movies_with_links_df.head())\n",
    "\n",
    "# Create a DataFrame with IMDb ratings\n",
    "# Assuming you have already scraped IMDb ratings and added them to the DataFrame\n",
    "# Example data with IMDb ratings (replace with actual ratings)\n",
    "imdb_ratings = {\n",
    "    'imdbId': [114709, 113497, 113228, 113277, 114319],\n",
    "    'imdbRating': [8.7, 9.0, 7.5, 8.3, 8.9]  # Replace with actual IMDb ratings\n",
    "}\n",
    "imdb_ratings_df = pd.DataFrame(imdb_ratings)\n",
    "\n",
    "# Merge IMDb ratings with the movies DataFrame\n",
    "movies_with_imdb_ratings_df = pd.merge(movies_with_links_df, imdb_ratings_df, left_on='imdbId', right_on='imdbId')\n",
    "\n",
    "# Step 5: Find the movie with the highest IMDb rating\n",
    "highest_rated_movie = movies_with_imdb_ratings_df.loc[movies_with_imdb_ratings_df['imdbRating'].idxmax()]\n",
    "highest_rated_movie_id = highest_rated_movie['movieId']\n",
    "\n",
    "print(f\"The movieId of the movie with the highest IMDB rating is: {highest_rated_movie_id}\")\n"
   ]
  },
  {
   "cell_type": "code",
   "execution_count": 15,
   "metadata": {},
   "outputs": [
    {
     "ename": "ValueError",
     "evalue": "attempt to get argmax of an empty sequence",
     "output_type": "error",
     "traceback": [
      "\u001b[0;31m---------------------------------------------------------------------------\u001b[0m",
      "\u001b[0;31mValueError\u001b[0m                                Traceback (most recent call last)",
      "Cell \u001b[0;32mIn[15], line 35\u001b[0m\n\u001b[1;32m     32\u001b[0m sci_fi_movies_df \u001b[38;5;241m=\u001b[39m movies_with_imdb_ratings_df[movies_with_imdb_ratings_df[\u001b[38;5;124m'\u001b[39m\u001b[38;5;124mgenres\u001b[39m\u001b[38;5;124m'\u001b[39m]\u001b[38;5;241m.\u001b[39mstr\u001b[38;5;241m.\u001b[39mcontains(\u001b[38;5;124m'\u001b[39m\u001b[38;5;124mSci-Fi\u001b[39m\u001b[38;5;124m'\u001b[39m)]\n\u001b[1;32m     34\u001b[0m \u001b[38;5;66;03m# Find the Sci-Fi movie with the highest IMDb rating\u001b[39;00m\n\u001b[0;32m---> 35\u001b[0m highest_rated_sci_fi_movie \u001b[38;5;241m=\u001b[39m sci_fi_movies_df\u001b[38;5;241m.\u001b[39mloc[\u001b[43msci_fi_movies_df\u001b[49m\u001b[43m[\u001b[49m\u001b[38;5;124;43m'\u001b[39;49m\u001b[38;5;124;43mimdbRating\u001b[39;49m\u001b[38;5;124;43m'\u001b[39;49m\u001b[43m]\u001b[49m\u001b[38;5;241;43m.\u001b[39;49m\u001b[43midxmax\u001b[49m\u001b[43m(\u001b[49m\u001b[43m)\u001b[49m]\n\u001b[1;32m     36\u001b[0m highest_rated_sci_fi_movie_id \u001b[38;5;241m=\u001b[39m highest_rated_sci_fi_movie[\u001b[38;5;124m'\u001b[39m\u001b[38;5;124mmovieId\u001b[39m\u001b[38;5;124m'\u001b[39m]\n\u001b[1;32m     38\u001b[0m \u001b[38;5;28mprint\u001b[39m(\u001b[38;5;124mf\u001b[39m\u001b[38;5;124m\"\u001b[39m\u001b[38;5;124mThe movieId of the Sci-Fi movie with the highest IMDB rating is: \u001b[39m\u001b[38;5;132;01m{\u001b[39;00mhighest_rated_sci_fi_movie_id\u001b[38;5;132;01m}\u001b[39;00m\u001b[38;5;124m\"\u001b[39m)\n",
      "File \u001b[0;32m~/.local/lib/python3.8/site-packages/pandas/core/series.py:2531\u001b[0m, in \u001b[0;36mSeries.idxmax\u001b[0;34m(self, axis, skipna, *args, **kwargs)\u001b[0m\n\u001b[1;32m   2466\u001b[0m \u001b[38;5;250m\u001b[39m\u001b[38;5;124;03m\"\"\"\u001b[39;00m\n\u001b[1;32m   2467\u001b[0m \u001b[38;5;124;03mReturn the row label of the maximum value.\u001b[39;00m\n\u001b[1;32m   2468\u001b[0m \n\u001b[0;32m   (...)\u001b[0m\n\u001b[1;32m   2527\u001b[0m \u001b[38;5;124;03mnan\u001b[39;00m\n\u001b[1;32m   2528\u001b[0m \u001b[38;5;124;03m\"\"\"\u001b[39;00m\n\u001b[1;32m   2529\u001b[0m \u001b[38;5;66;03m# error: Argument 1 to \"argmax\" of \"IndexOpsMixin\" has incompatible type\u001b[39;00m\n\u001b[1;32m   2530\u001b[0m \u001b[38;5;66;03m# \"Union[int, Literal['index', 'columns']]\"; expected \"Optional[int]\"\u001b[39;00m\n\u001b[0;32m-> 2531\u001b[0m i \u001b[38;5;241m=\u001b[39m \u001b[38;5;28;43mself\u001b[39;49m\u001b[38;5;241;43m.\u001b[39;49m\u001b[43margmax\u001b[49m\u001b[43m(\u001b[49m\u001b[43maxis\u001b[49m\u001b[43m,\u001b[49m\u001b[43m \u001b[49m\u001b[43mskipna\u001b[49m\u001b[43m,\u001b[49m\u001b[43m \u001b[49m\u001b[38;5;241;43m*\u001b[39;49m\u001b[43margs\u001b[49m\u001b[43m,\u001b[49m\u001b[43m \u001b[49m\u001b[38;5;241;43m*\u001b[39;49m\u001b[38;5;241;43m*\u001b[39;49m\u001b[43mkwargs\u001b[49m\u001b[43m)\u001b[49m  \u001b[38;5;66;03m# type: ignore[arg-type]\u001b[39;00m\n\u001b[1;32m   2532\u001b[0m \u001b[38;5;28;01mif\u001b[39;00m i \u001b[38;5;241m==\u001b[39m \u001b[38;5;241m-\u001b[39m\u001b[38;5;241m1\u001b[39m:\n\u001b[1;32m   2533\u001b[0m     \u001b[38;5;28;01mreturn\u001b[39;00m np\u001b[38;5;241m.\u001b[39mnan\n",
      "File \u001b[0;32m~/.local/lib/python3.8/site-packages/pandas/core/base.py:678\u001b[0m, in \u001b[0;36mIndexOpsMixin.argmax\u001b[0;34m(self, axis, skipna, *args, **kwargs)\u001b[0m\n\u001b[1;32m    674\u001b[0m         \u001b[38;5;28;01mreturn\u001b[39;00m delegate\u001b[38;5;241m.\u001b[39margmax()\n\u001b[1;32m    675\u001b[0m \u001b[38;5;28;01melse\u001b[39;00m:\n\u001b[1;32m    676\u001b[0m     \u001b[38;5;66;03m# error: Incompatible return value type (got \"Union[int, ndarray]\", expected\u001b[39;00m\n\u001b[1;32m    677\u001b[0m     \u001b[38;5;66;03m# \"int\")\u001b[39;00m\n\u001b[0;32m--> 678\u001b[0m     \u001b[38;5;28;01mreturn\u001b[39;00m \u001b[43mnanops\u001b[49m\u001b[38;5;241;43m.\u001b[39;49m\u001b[43mnanargmax\u001b[49m\u001b[43m(\u001b[49m\u001b[43m  \u001b[49m\u001b[38;5;66;43;03m# type: ignore[return-value]\u001b[39;49;00m\n\u001b[1;32m    679\u001b[0m \u001b[43m        \u001b[49m\u001b[43mdelegate\u001b[49m\u001b[43m,\u001b[49m\u001b[43m \u001b[49m\u001b[43mskipna\u001b[49m\u001b[38;5;241;43m=\u001b[39;49m\u001b[43mskipna\u001b[49m\n\u001b[1;32m    680\u001b[0m \u001b[43m    \u001b[49m\u001b[43m)\u001b[49m\n",
      "File \u001b[0;32m~/.local/lib/python3.8/site-packages/pandas/core/nanops.py:96\u001b[0m, in \u001b[0;36mdisallow.__call__.<locals>._f\u001b[0;34m(*args, **kwargs)\u001b[0m\n\u001b[1;32m     94\u001b[0m \u001b[38;5;28;01mtry\u001b[39;00m:\n\u001b[1;32m     95\u001b[0m     \u001b[38;5;28;01mwith\u001b[39;00m np\u001b[38;5;241m.\u001b[39merrstate(invalid\u001b[38;5;241m=\u001b[39m\u001b[38;5;124m\"\u001b[39m\u001b[38;5;124mignore\u001b[39m\u001b[38;5;124m\"\u001b[39m):\n\u001b[0;32m---> 96\u001b[0m         \u001b[38;5;28;01mreturn\u001b[39;00m \u001b[43mf\u001b[49m\u001b[43m(\u001b[49m\u001b[38;5;241;43m*\u001b[39;49m\u001b[43margs\u001b[49m\u001b[43m,\u001b[49m\u001b[43m \u001b[49m\u001b[38;5;241;43m*\u001b[39;49m\u001b[38;5;241;43m*\u001b[39;49m\u001b[43mkwargs\u001b[49m\u001b[43m)\u001b[49m\n\u001b[1;32m     97\u001b[0m \u001b[38;5;28;01mexcept\u001b[39;00m \u001b[38;5;167;01mValueError\u001b[39;00m \u001b[38;5;28;01mas\u001b[39;00m e:\n\u001b[1;32m     98\u001b[0m     \u001b[38;5;66;03m# we want to transform an object array\u001b[39;00m\n\u001b[1;32m     99\u001b[0m     \u001b[38;5;66;03m# ValueError message to the more typical TypeError\u001b[39;00m\n\u001b[1;32m    100\u001b[0m     \u001b[38;5;66;03m# e.g. this is normally a disallowed function on\u001b[39;00m\n\u001b[1;32m    101\u001b[0m     \u001b[38;5;66;03m# object arrays that contain strings\u001b[39;00m\n\u001b[1;32m    102\u001b[0m     \u001b[38;5;28;01mif\u001b[39;00m is_object_dtype(args[\u001b[38;5;241m0\u001b[39m]):\n",
      "File \u001b[0;32m~/.local/lib/python3.8/site-packages/pandas/core/nanops.py:1147\u001b[0m, in \u001b[0;36mnanargmax\u001b[0;34m(values, axis, skipna, mask)\u001b[0m\n\u001b[1;32m   1145\u001b[0m values, mask, _, _, _ \u001b[38;5;241m=\u001b[39m _get_values(values, \u001b[38;5;28;01mTrue\u001b[39;00m, fill_value_typ\u001b[38;5;241m=\u001b[39m\u001b[38;5;124m\"\u001b[39m\u001b[38;5;124m-inf\u001b[39m\u001b[38;5;124m\"\u001b[39m, mask\u001b[38;5;241m=\u001b[39mmask)\n\u001b[1;32m   1146\u001b[0m \u001b[38;5;66;03m# error: Need type annotation for 'result'\u001b[39;00m\n\u001b[0;32m-> 1147\u001b[0m result \u001b[38;5;241m=\u001b[39m \u001b[43mvalues\u001b[49m\u001b[38;5;241;43m.\u001b[39;49m\u001b[43margmax\u001b[49m\u001b[43m(\u001b[49m\u001b[43maxis\u001b[49m\u001b[43m)\u001b[49m  \u001b[38;5;66;03m# type: ignore[var-annotated]\u001b[39;00m\n\u001b[1;32m   1148\u001b[0m result \u001b[38;5;241m=\u001b[39m _maybe_arg_null_out(result, axis, mask, skipna)\n\u001b[1;32m   1149\u001b[0m \u001b[38;5;28;01mreturn\u001b[39;00m result\n",
      "\u001b[0;31mValueError\u001b[0m: attempt to get argmax of an empty sequence"
     ]
    }
   ],
   "source": [
    "import pandas as pd\n",
    "\n",
    "# Load datasets\n",
    "movies_df = pd.read_csv('/home/rguktongole/Downloads/movie_data/movies.csv')\n",
    "ratings_df = pd.read_csv('/home/rguktongole/Downloads/movie_data/ratings.csv')\n",
    "links_df = pd.read_csv('/home/rguktongole/Downloads/movie_data/links.csv')\n",
    "\n",
    "# Example IMDb ratings data (replace this with actual scraped data)\n",
    "imdb_ratings = {\n",
    "    'imdbId': [114709, 113497, 113228, 113277, 114319],\n",
    "    'imdbRating': [8.7, 9.0, 7.5, 8.3, 8.9]  # Replace with actual IMDb ratings\n",
    "}\n",
    "imdb_ratings_df = pd.DataFrame(imdb_ratings)\n",
    "\n",
    "# Group user ratings by movieId and calculate count and mean\n",
    "ratings_grouped = ratings_df.groupby('movieId').agg({'rating': ['count', 'mean']}).reset_index()\n",
    "ratings_grouped.columns = ['movieId', 'rating_count', 'rating_mean']\n",
    "\n",
    "# Merge movies with ratings\n",
    "movies_with_ratings_df = pd.merge(movies_df, ratings_grouped, on='movieId')\n",
    "\n",
    "# Filter movies with more than 50 ratings\n",
    "filtered_movies_df = movies_with_ratings_df[movies_with_ratings_df['rating_count'] > 50]\n",
    "\n",
    "# Merge with links to get IMDb IDs\n",
    "movies_with_links_df = pd.merge(filtered_movies_df, links_df, on='movieId')\n",
    "\n",
    "# Merge IMDb ratings with the movies DataFrame\n",
    "movies_with_imdb_ratings_df = pd.merge(movies_with_links_df, imdb_ratings_df, left_on='imdbId', right_on='imdbId')\n",
    "\n",
    "# Filter for Sci-Fi genre movies\n",
    "sci_fi_movies_df = movies_/home/rguktongole/Downloads/movie_datawith_imdb_ratings_df[movies_with_imdb_ratings_df['genres'].str.contains('Sci-Fi')]\n",
    "\n",
    "# Find the Sci-Fi movie with the highest IMDb rating\n",
    "highest_rated_sci_fi_movie = sci_fi_movies_df.loc[sci_fi_movies_df['imdbRating'].idxmax()]\n",
    "highest_rated_sci_fi_movie_id = highest_rated_sci_fi_movie['movieId']\n",
    "\n",
    "print(f\"The movieId of the Sci-Fi movie with the highest IMDB rating is: {highest_rated_sci_fi_movie_id}\")\n"
   ]
  },
  {
   "cell_type": "code",
   "execution_count": 16,
   "metadata": {},
   "outputs": [
    {
     "name": "stdout",
     "output_type": "stream",
     "text": [
      "['Adventure|Animation|Children|Comedy|Fantasy'\n",
      " 'Adventure|Children|Fantasy' 'Comedy|Romance' 'Action|Crime|Thriller']\n"
     ]
    }
   ],
   "source": [
    "print(movies_with_imdb_ratings_df['genres'].unique())\n"
   ]
  },
  {
   "cell_type": "code",
   "execution_count": 17,
   "metadata": {},
   "outputs": [
    {
     "name": "stdout",
     "output_type": "stream",
     "text": [
      "   movieId                    title  \\\n",
      "0        1         Toy Story (1995)   \n",
      "1        2           Jumanji (1995)   \n",
      "2        3  Grumpier Old Men (1995)   \n",
      "3        6              Heat (1995)   \n",
      "4        7           Sabrina (1995)   \n",
      "\n",
      "                                        genres  rating_count  rating_mean  \\\n",
      "0  Adventure|Animation|Children|Comedy|Fantasy           215     3.920930   \n",
      "1                   Adventure|Children|Fantasy           110     3.431818   \n",
      "2                               Comedy|Romance            52     3.259615   \n",
      "3                        Action|Crime|Thriller           102     3.946078   \n",
      "4                               Comedy|Romance            54     3.185185   \n",
      "\n",
      "   imdbId   tmdbId  imdbRating  \n",
      "0  114709    862.0         8.7  \n",
      "1  113497   8844.0         9.0  \n",
      "2  113228  15602.0         7.5  \n",
      "3  113277    949.0         8.3  \n",
      "4  114319  11860.0         8.9  \n"
     ]
    }
   ],
   "source": [
    "print(movies_with_imdb_ratings_df.head())\n"
   ]
  },
  {
   "cell_type": "code",
   "execution_count": 20,
   "metadata": {},
   "outputs": [
    {
     "name": "stdout",
     "output_type": "stream",
     "text": [
      "['Adventure|Animation|Children|Comedy|Fantasy'\n",
      " 'Adventure|Children|Fantasy' 'Comedy|Romance' 'Action|Crime|Thriller']\n",
      "No Sci-Fi movies with more than 50 ratings found or no IMDb ratings available.\n"
     ]
    }
   ],
   "source": [
    "import pandas as pd\n",
    "\n",
    "# Load datasets\n",
    "movies_df = pd.read_csv('/home/rguktongole/Downloads/movie_data/movies.csv')\n",
    "ratings_df = pd.read_csv('/home/rguktongole/Downloads/movie_data/ratings.csv')\n",
    "links_df = pd.read_csv('/home/rguktongole/Downloads/movie_data/links.csv')\n",
    "\n",
    "# Example IMDb ratings data (replace this with actual scraped data)\n",
    "imdb_ratings = {\n",
    "    'imdbId': [114709, 113497, 113228, 113277, 114319],\n",
    "    'imdbRating': [8.7, 9.0, 7.5, 8.3, 8.9]  # Replace with actual IMDb ratings\n",
    "}\n",
    "imdb_ratings_df = pd.DataFrame(imdb_ratings)\n",
    "\n",
    "# Group user ratings by movieId and calculate count and mean\n",
    "ratings_grouped = ratings_df.groupby('movieId').agg({'rating': ['count', 'mean']}).reset_index()\n",
    "ratings_grouped.columns = ['movieId', 'rating_count', 'rating_mean']\n",
    "\n",
    "# Merge movies with ratings\n",
    "movies_with_ratings_df = pd.merge(movies_df, ratings_grouped, on='movieId')\n",
    "\n",
    "# Filter movies with more than 50 ratings\n",
    "filtered_movies_df = movies_with_ratings_df[movies_with_ratings_df['rating_count'] > 50]\n",
    "\n",
    "# Merge with links to get IMDb IDs\n",
    "movies_with_links_df = pd.merge(filtered_movies_df, links_df, on='movieId')\n",
    "\n",
    "# Merge IMDb ratings with the movies DataFrame\n",
    "movies_with_imdb_ratings_df = pd.merge(movies_with_links_df, imdb_ratings_df, on='imdbId')\n",
    "\n",
    "# Check genres for Sci-Fi\n",
    "print(movies_with_imdb_ratings_df['genres'].unique())\n",
    "\n",
    "# Filter Sci-Fi movies\n",
    "sci_fi_movies_df = movies_with_imdb_ratings_df[movies_with_imdb_ratings_df['genres'].str.contains('Sci-Fi', case=False, na=False)]\n",
    "\n",
    "# Check if Sci-Fi DataFrame is empty\n",
    "if not sci_fi_movies_df.empty:\n",
    "    # Find the Sci-Fi movie with the highest IMDb rating\n",
    "    highest_rated_sci_fi_movie = sci_fi_movies_df.loc[sci_fi_movies_df['imdbRating'].idxmax()]\n",
    "    highest_rated_sci_fi_movie_id = highest_rated_sci_fi_movie['movieId']\n",
    "    print(f\"The movieId of the Sci-Fi movie with the highest IMDB rating is: {highest_rated_sci_fi_movie_id}\")\n",
    "else:\n",
    "    print(\"No Sci-Fi movies with more than 50 ratings found or no IMDb ratings available.\")\n"
   ]
  },
  {
   "cell_type": "code",
   "execution_count": 21,
   "metadata": {},
   "outputs": [
    {
     "name": "stdout",
     "output_type": "stream",
     "text": [
      "   movieId                                       genres\n",
      "0        1  Adventure|Animation|Children|Comedy|Fantasy\n",
      "1        2                   Adventure|Children|Fantasy\n",
      "2        3                               Comedy|Romance\n",
      "3        6                        Action|Crime|Thriller\n",
      "4        7                               Comedy|Romance\n"
     ]
    }
   ],
   "source": [
    "print(movies_with_imdb_ratings_df[['movieId', 'genres']].head())\n"
   ]
  },
  {
   "cell_type": "code",
   "execution_count": 18,
   "metadata": {},
   "outputs": [
    {
     "name": "stdout",
     "output_type": "stream",
     "text": [
      "(5, 8)\n",
      "(0, 8)\n"
     ]
    }
   ],
   "source": [
    "print(movies_with_imdb_ratings_df.shape)  # Check shape of DataFrame\n",
    "print(sci_fi_movies_df.shape)  # Check shape of Sci-Fi DataFrame\n"
   ]
  },
  {
   "cell_type": "code",
   "execution_count": 22,
   "metadata": {},
   "outputs": [
    {
     "name": "stdout",
     "output_type": "stream",
     "text": [
      "   imdbId  imdbRating\n",
      "0  114709         8.7\n",
      "1  113497         9.0\n",
      "2  113228         7.5\n",
      "3  113277         8.3\n",
      "4  114319         8.9\n"
     ]
    }
   ],
   "source": [
    "print(imdb_ratings_df.head())\n"
   ]
  },
  {
   "cell_type": "code",
   "execution_count": 19,
   "metadata": {},
   "outputs": [
    {
     "name": "stdout",
     "output_type": "stream",
     "text": [
      "['Adventure|Animation|Children|Comedy|Fantasy'\n",
      " 'Adventure|Children|Fantasy' 'Comedy|Romance' 'Action|Crime|Thriller']\n",
      "(0, 8)\n",
      "Empty DataFrame\n",
      "Columns: [movieId, title, genres, rating_count, rating_mean, imdbId, tmdbId, imdbRating]\n",
      "Index: []\n",
      "No Sci-Fi movies with more than 50 ratings found or no IMDb ratings available.\n"
     ]
    }
   ],
   "source": [
    "import pandas as pd\n",
    "\n",
    "# Load datasets\n",
    "movies_df = pd.read_csv('/home/rguktongole/Downloads/movie_data/movies.csv')\n",
    "ratings_df = pd.read_csv('/home/rguktongole/Downloads/movie_data/ratings.csv')\n",
    "links_df = pd.read_csv('/home/rguktongole/Downloads/movie_data/links.csv')\n",
    "\n",
    "# Example IMDb ratings data (replace this with actual scraped data)\n",
    "imdb_ratings = {\n",
    "    'imdbId': [114709, 113497, 113228, 113277, 114319],\n",
    "    'imdbRating': [8.7, 9.0, 7.5, 8.3, 8.9]  # Replace with actual IMDb ratings\n",
    "}\n",
    "imdb_ratings_df = pd.DataFrame(imdb_ratings)\n",
    "\n",
    "# Group user ratings by movieId and calculate count and mean\n",
    "ratings_grouped = ratings_df.groupby('movieId').agg({'rating': ['count', 'mean']}).reset_index()\n",
    "ratings_grouped.columns = ['movieId', 'rating_count', 'rating_mean']\n",
    "\n",
    "# Merge movies with ratings\n",
    "movies_with_ratings_df = pd.merge(movies_df, ratings_grouped, on='movieId')\n",
    "\n",
    "# Filter movies with more than 50 ratings\n",
    "filtered_movies_df = movies_with_ratings_df[movies_with_ratings_df['rating_count'] > 50]\n",
    "\n",
    "# Merge with links to get IMDb IDs\n",
    "movies_with_links_df = pd.merge(filtered_movies_df, links_df, on='movieId')\n",
    "\n",
    "# Merge IMDb ratings with the movies DataFrame\n",
    "movies_with_imdb_ratings_df = pd.merge(movies_with_links_df, imdb_ratings_df, left_on='imdbId', right_on='imdbId')\n",
    "\n",
    "# Check for Sci-Fi genre movies\n",
    "print(movies_with_imdb_ratings_df['genres'].unique())  # Verify genres\n",
    "\n",
    "# Filter for Sci-Fi genre movies\n",
    "sci_fi_movies_df = movies_with_imdb_ratings_df[movies_with_imdb_ratings_df['genres'].str.contains('Sci-Fi')]\n",
    "\n",
    "# Check if Sci-Fi DataFrame is empty\n",
    "print(sci_fi_movies_df.shape)\n",
    "print(sci_fi_movies_df.head())\n",
    "\n",
    "# Find the Sci-Fi movie with the highest IMDb rating\n",
    "if not sci_fi_movies_df.empty:\n",
    "    highest_rated_sci_fi_movie = sci_fi_movies_df.loc[sci_fi_movies_df['imdbRating'].idxmax()]\n",
    "    highest_rated_sci_fi_movie_id = highest_rated_sci_fi_movie['movieId']\n",
    "    print(f\"The movieId of the Sci-Fi movie with the highest IMDB rating is: {highest_rated_sci_fi_movie_id}\")\n",
    "else:\n",
    "    print(\"No Sci-Fi movies with more than 50 ratings found or no IMDb ratings available.\")\n"
   ]
  },
  {
   "cell_type": "code",
   "execution_count": 23,
   "metadata": {},
   "outputs": [
    {
     "name": "stdout",
     "output_type": "stream",
     "text": [
      "['Adventure|Animation|Children|Comedy|Fantasy'\n",
      " 'Adventure|Children|Fantasy' 'Comedy|Romance' 'Action|Crime|Thriller']\n"
     ]
    }
   ],
   "source": [
    "unique_genres = movies_with_imdb_ratings_df['genres'].unique()\n",
    "print(unique_genres)\n"
   ]
  },
  {
   "cell_type": "code",
   "execution_count": null,
   "metadata": {},
   "outputs": [],
   "source": [
    "import pandas as pd\n",
    "\n",
    "# Load datasets\n",
    "movies_df = pd.read_csv('movies.csv')\n",
    "ratings_df = pd.read_csv('ratings.csv')\n",
    "links_df = pd.read_csv('links.csv')\n",
    "\n",
    "# Example IMDb ratings data (replace this with actual scraped data)\n",
    "imdb_ratings = {\n",
    "    'imdbId': [114709, 113497, 113228, 113277, 114319],\n",
    "    'imdbRating': [8.7, 9.0, 7.5, 8.3, 8.9]  # Replace with actual IMDb ratings\n",
    "}\n",
    "imdb_ratings_df = pd.DataFrame(imdb_ratings)\n",
    "\n",
    "# Group user ratings by movieId and calculate count and mean\n",
    "ratings_grouped = ratings_df.groupby('movieId').agg({'rating': ['count', 'mean']}).reset_index()\n",
    "ratings_grouped.columns = ['movieId', 'rating_count', 'rating_mean']\n",
    "\n",
    "# Merge movies with ratings\n",
    "movies_with_ratings_df = pd.merge(movies_df, ratings_grouped, on='movieId')\n",
    "\n",
    "# Filter movies with more than 50 ratings\n",
    "filtered_movies_df = movies_with_ratings_df[movies_with_ratings_df['rating_count'] > 50]\n",
    "\n",
    "# Merge with links to get IMDb IDs\n",
    "movies_with_links_df = pd.merge(filtered_movies_df, links_df, on='movieId')\n",
    "\n",
    "# Merge IMDb ratings with the movies DataFrame\n",
    "movies_with_imdb_ratings_df = pd.merge(movies_with_links_df, imdb_ratings_df, left_on='imdbId', right_on='imdbId')\n",
    "\n",
    "# Inspect genres\n",
    "print(movies_with_imdb_ratings_df['genres'].unique())\n",
    "\n",
    "# Check for Sci-Fi genre movies (case-insensitive search)\n",
    "sci_fi_movies_df = movies_with_imdb_ratings_df[movies_with_imdb_ratings_df['genres'].str.contains('Sci-Fi', case=False, na=False)]\n",
    "\n",
    "# Check if Sci-Fi DataFrame is empty\n",
    "print(sci_fi_movies_df.shape)\n",
    "print(sci_fi_movies_df.head())\n",
    "\n",
    "# Find the Sci-Fi movie with the highest IMDb rating\n",
    "if not sci_fi_movies_df.empty:\n",
    "    highest_rated_sci_fi_movie = sci_fi_movies_df.loc[sci_fi_movies_df['imdbRating'].idxmax()]\n",
    "    highest_rated_sci_fi_movie_id = highest_rated_sci_fi_movie['movieId']\n",
    "    print(f\"The movieId of the Sci-Fi movie with the highest IMDB rating is: {highest_rated_sci_fi_movie_id}\")\n",
    "else:\n",
    "    print(\"No Sci-Fi movies with more than 50 ratings found or no IMDb ratings available.\")\n"
   ]
  },
  {
   "cell_type": "code",
   "execution_count": 24,
   "metadata": {},
   "outputs": [
    {
     "name": "stdout",
     "output_type": "stream",
     "text": [
      "Number of Sci-Fi movies with IMDb ratings: 0\n"
     ]
    }
   ],
   "source": [
    "sci_fi_count = sci_fi_movies_df.shape[0]\n",
    "print(f\"Number of Sci-Fi movies with IMDb ratings: {sci_fi_count}\")\n"
   ]
  },
  {
   "cell_type": "code",
   "execution_count": 25,
   "metadata": {},
   "outputs": [
    {
     "name": "stdout",
     "output_type": "stream",
     "text": [
      "['Adventure|Animation|Children|Comedy|Fantasy'\n",
      " 'Adventure|Children|Fantasy' 'Comedy|Romance' 'Action|Crime|Thriller']\n"
     ]
    }
   ],
   "source": [
    "# Check unique genre labels in the dataset\n",
    "unique_genres = movies_with_imdb_ratings_df['genres'].unique()\n",
    "print(unique_genres)\n"
   ]
  },
  {
   "cell_type": "code",
   "execution_count": 26,
   "metadata": {},
   "outputs": [
    {
     "name": "stdout",
     "output_type": "stream",
     "text": [
      "Empty DataFrame\n",
      "Columns: [movieId, title, genres, rating_count, rating_mean, imdbId, tmdbId, imdbRating]\n",
      "Index: []\n"
     ]
    }
   ],
   "source": [
    "# Check for missing IMDb ratings\n",
    "missing_imdb_ratings = movies_with_imdb_ratings_df[movies_with_imdb_ratings_df['imdbRating'].isna()]\n",
    "print(missing_imdb_ratings)\n"
   ]
  },
  {
   "cell_type": "code",
   "execution_count": 27,
   "metadata": {},
   "outputs": [
    {
     "name": "stdout",
     "output_type": "stream",
     "text": [
      "   movieId                                       genres\n",
      "0        1  Adventure|Animation|Children|Comedy|Fantasy\n",
      "1        2                   Adventure|Children|Fantasy\n",
      "2        3                               Comedy|Romance\n",
      "3        6                        Action|Crime|Thriller\n",
      "4        7                               Comedy|Romance\n"
     ]
    }
   ],
   "source": [
    "# Check how genres are formatted\n",
    "print(movies_with_imdb_ratings_df[['movieId', 'genres']].head(10))\n"
   ]
  },
  {
   "cell_type": "code",
   "execution_count": 28,
   "metadata": {},
   "outputs": [
    {
     "name": "stdout",
     "output_type": "stream",
     "text": [
      "Empty DataFrame\n",
      "Columns: [movieId, title, genres]\n",
      "Index: []\n"
     ]
    }
   ],
   "source": [
    "# Example of checking if Sci-Fi is present in genres\n",
    "sci_fi_check = movies_with_imdb_ratings_df[movies_with_imdb_ratings_df['genres'].str.contains('Sci-Fi', case=False, na=False)]\n",
    "print(sci_fi_check[['movieId', 'title', 'genres']])\n"
   ]
  },
  {
   "cell_type": "code",
   "execution_count": 29,
   "metadata": {},
   "outputs": [
    {
     "name": "stdout",
     "output_type": "stream",
     "text": [
      "['Adventure|Animation|Children|Comedy|Fantasy'\n",
      " 'Adventure|Children|Fantasy' 'Comedy|Romance' 'Action|Crime|Thriller']\n"
     ]
    }
   ],
   "source": [
    "# Print unique genre labels to check for \"Sci-Fi\"\n",
    "unique_genres = movies_with_imdb_ratings_df['genres'].unique()\n",
    "print(unique_genres)\n"
   ]
  },
  {
   "cell_type": "code",
   "execution_count": 30,
   "metadata": {},
   "outputs": [
    {
     "name": "stdout",
     "output_type": "stream",
     "text": [
      "   movieId                                       genres\n",
      "0        1  Adventure|Animation|Children|Comedy|Fantasy\n",
      "1        2                   Adventure|Children|Fantasy\n",
      "2        3                               Comedy|Romance\n",
      "3        6                        Action|Crime|Thriller\n",
      "4        7                               Comedy|Romance\n"
     ]
    }
   ],
   "source": [
    "# Example code to print a few rows to inspect genre formatting\n",
    "print(movies_with_imdb_ratings_df[['movieId', 'genres']].head(20))\n"
   ]
  },
  {
   "cell_type": "code",
   "execution_count": 31,
   "metadata": {},
   "outputs": [
    {
     "name": "stdout",
     "output_type": "stream",
     "text": [
      "   movieId                                       genres\n",
      "0        1  Adventure|Animation|Children|Comedy|Fantasy\n",
      "1        2                   Adventure|Children|Fantasy\n",
      "2        3                               Comedy|Romance\n",
      "3        6                        Action|Crime|Thriller\n",
      "4        7                               Comedy|Romance\n"
     ]
    }
   ],
   "source": [
    "# Example code to print a few rows to inspect genre formatting\n",
    "print(movies_with_imdb_ratings_df[['movieId', 'genres']].head(20))\n"
   ]
  },
  {
   "cell_type": "code",
   "execution_count": 32,
   "metadata": {},
   "outputs": [
    {
     "name": "stdout",
     "output_type": "stream",
     "text": [
      "   movieId                                       genres  imdbRating\n",
      "0        1  Adventure|Animation|Children|Comedy|Fantasy         8.7\n",
      "1        2                   Adventure|Children|Fantasy         9.0\n",
      "2        3                               Comedy|Romance         7.5\n",
      "3        6                        Action|Crime|Thriller         8.3\n",
      "4        7                               Comedy|Romance         8.9\n"
     ]
    }
   ],
   "source": [
    "# Check for movies with IMDb ratings and their genres\n",
    "print(movies_with_imdb_ratings_df[['movieId', 'genres', 'imdbRating']].head(20))\n"
   ]
  },
  {
   "cell_type": "code",
   "execution_count": 33,
   "metadata": {},
   "outputs": [
    {
     "name": "stdout",
     "output_type": "stream",
     "text": [
      "Empty DataFrame\n",
      "Columns: [movieId, title, genres]\n",
      "Index: []\n"
     ]
    }
   ],
   "source": [
    "# Check for similar genre labels\n",
    "sci_fi_similar = movies_with_imdb_ratings_df[movies_with_imdb_ratings_df['genres'].str.contains('Science Fiction', case=False, na=False)]\n",
    "print(sci_fi_similar[['movieId', 'title', 'genres']])\n"
   ]
  },
  {
   "cell_type": "code",
   "execution_count": 34,
   "metadata": {},
   "outputs": [
    {
     "name": "stdout",
     "output_type": "stream",
     "text": [
      "   movieId                    title  imdbRating\n",
      "0        1         Toy Story (1995)         8.7\n",
      "1        2           Jumanji (1995)         9.0\n",
      "2        3  Grumpier Old Men (1995)         7.5\n",
      "3        6              Heat (1995)         8.3\n",
      "4        7           Sabrina (1995)         8.9\n"
     ]
    }
   ],
   "source": [
    "# Check if IMDb ratings are correctly associated with movies\n",
    "print(movies_with_imdb_ratings_df[['movieId', 'title', 'imdbRating']].head(20))\n"
   ]
  },
  {
   "cell_type": "code",
   "execution_count": null,
   "metadata": {},
   "outputs": [],
   "source": []
  }
 ],
 "metadata": {
  "kernelspec": {
   "display_name": "Python 3 (ipykernel)",
   "language": "python",
   "name": "python3"
  },
  "language_info": {
   "codemirror_mode": {
    "name": "ipython",
    "version": 3
   },
   "file_extension": ".py",
   "mimetype": "text/x-python",
   "name": "python",
   "nbconvert_exporter": "python",
   "pygments_lexer": "ipython3",
   "version": "3.8.10"
  }
 },
 "nbformat": 4,
 "nbformat_minor": 4
}
